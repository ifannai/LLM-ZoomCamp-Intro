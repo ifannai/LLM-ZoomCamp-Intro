{
 "cells": [
  {
   "cell_type": "markdown",
   "id": "7321fda4-2e5d-4705-8278-3bbfe61d86da",
   "metadata": {},
   "source": [
    "# Implementing semantic search"
   ]
  },
  {
   "cell_type": "code",
   "execution_count": 1,
   "id": "15cb7891-9420-42e7-a563-c1bb3c3a37a4",
   "metadata": {},
   "outputs": [],
   "source": [
    "# prepare documents:\n",
    "import json\n",
    "\n",
    "with open('documents.json', 'rt') as f_in:\n",
    "    docs_raw = json.load(f_in)\n",
    "    "
   ]
  },
  {
   "cell_type": "code",
   "execution_count": 2,
   "id": "3131c3e2-e70e-4a7e-9f5b-dc50dcb28f30",
   "metadata": {},
   "outputs": [
    {
     "data": {
      "text/plain": [
       "{'text': 'GitHub - DataTalksClub data-engineering-zoomcamp#prerequisites',\n",
       " 'section': 'General course-related questions',\n",
       " 'question': 'Course - What are the prerequisites for this course?',\n",
       " 'course': 'data-engineering-zoomcamp'}"
      ]
     },
     "execution_count": 2,
     "metadata": {},
     "output_type": "execute_result"
    }
   ],
   "source": [
    "documents = []\n",
    "\n",
    "for course_dict in docs_raw:\n",
    "    for doc in course_dict['documents']:\n",
    "        doc['course'] = course_dict['course']\n",
    "        documents.append(doc)\n",
    "\n",
    "documents[1]"
   ]
  },
  {
   "cell_type": "code",
   "execution_count": 3,
   "id": "edaa8c31-6b49-4d56-92cf-650eb67793f2",
   "metadata": {},
   "outputs": [
    {
     "name": "stderr",
     "output_type": "stream",
     "text": [
      "/Users/iva/Library/Caches/pypoetry/virtualenvs/language-level-estimator-wvZTnTBf-py3.12/lib/python3.12/site-packages/sentence_transformers/cross_encoder/CrossEncoder.py:11: TqdmWarning: IProgress not found. Please update jupyter and ipywidgets. See https://ipywidgets.readthedocs.io/en/stable/user_install.html\n",
      "  from tqdm.autonotebook import tqdm, trange\n",
      "/Users/iva/Library/Caches/pypoetry/virtualenvs/language-level-estimator-wvZTnTBf-py3.12/lib/python3.12/site-packages/transformers/tokenization_utils_base.py:1601: FutureWarning: `clean_up_tokenization_spaces` was not set. It will be set to `True` by default. This behavior will be depracted in transformers v4.45, and will be then set to `False` by default. For more details check this issue: https://github.com/huggingface/transformers/issues/31884\n",
      "  warnings.warn(\n"
     ]
    }
   ],
   "source": [
    "# Create embeddings using Pretrained Models\n",
    "from sentence_transformers import SentenceTransformer\n",
    "\n",
    "\n",
    "model = SentenceTransformer(\"all-mpnet-base-v2\")"
   ]
  },
  {
   "cell_type": "code",
   "execution_count": 4,
   "id": "174c2952-5bab-47b6-a604-df7cd01e032b",
   "metadata": {},
   "outputs": [],
   "source": [
    "# model.encode(\"This is a simple sentence\")"
   ]
  },
  {
   "cell_type": "code",
   "execution_count": null,
   "id": "63e0dece-b87f-4c9f-9c2b-9ef596e34f23",
   "metadata": {},
   "outputs": [],
   "source": [
    "# we now choose which field in the documents we want to encode. It would make sense to encode text and question.\n",
    "\n",
    "operations = []\n",
    "for doc in documents:\n",
    "    #transform title into an embedding using the model\n",
    "    doc[\"text_vector\"] = model.encode(doc[\"text\"]).tolist()\n",
    "    operations.append(doc)\n",
    "\n",
    "operations[1]"
   ]
  },
  {
   "cell_type": "code",
   "execution_count": null,
   "id": "c098fb8f-ccc7-497c-9a53-7f886aa5a657",
   "metadata": {},
   "outputs": [],
   "source": [
    "# Setup ElasticSearch connection\n",
    "from elasticsearch import Elasticsearch\n",
    "\n",
    "es_client = Elasticsearch(\"http://localhost:9200\")\n",
    "es_client.info()"
   ]
  }
 ],
 "metadata": {
  "kernelspec": {
   "display_name": "llm-zoomcamp-intro",
   "language": "python",
   "name": "llm-zoomcamp-intro"
  },
  "language_info": {
   "codemirror_mode": {
    "name": "ipython",
    "version": 3
   },
   "file_extension": ".py",
   "mimetype": "text/x-python",
   "name": "python",
   "nbconvert_exporter": "python",
   "pygments_lexer": "ipython3",
   "version": "3.12.3"
  }
 },
 "nbformat": 4,
 "nbformat_minor": 5
}
