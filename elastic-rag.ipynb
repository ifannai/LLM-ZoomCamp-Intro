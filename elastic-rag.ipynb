{
 "cells": [
  {
   "cell_type": "markdown",
   "id": "c896c9fd-f8f4-415d-b9ac-a354980baae2",
   "metadata": {},
   "source": [
    "## R in RAG stands for retrieval. \n",
    "For retrieval we need a search system and we will use elasticsearch.\n",
    "First we will download the docs:"
   ]
  },
  {
   "cell_type": "code",
   "execution_count": 3,
   "id": "80461ba4-7557-41db-a96e-66f5aa475352",
   "metadata": {},
   "outputs": [
    {
     "name": "stdout",
     "output_type": "stream",
     "text": [
      "--2024-08-05 11:51:58--  https://github.com/alexeygrigorev/llm-rag-workshop/raw/main/notebooks/documents.json\n",
      "Resolving github.com (github.com)... 20.26.156.215\n",
      "Connecting to github.com (github.com)|20.26.156.215|:443... connected.\n",
      "HTTP request sent, awaiting response... 302 Found\n",
      "Location: https://raw.githubusercontent.com/alexeygrigorev/llm-rag-workshop/main/notebooks/documents.json [following]\n",
      "--2024-08-05 11:51:58--  https://raw.githubusercontent.com/alexeygrigorev/llm-rag-workshop/main/notebooks/documents.json\n",
      "Resolving raw.githubusercontent.com (raw.githubusercontent.com)... 185.199.111.133, 185.199.108.133, 185.199.110.133, ...\n",
      "Connecting to raw.githubusercontent.com (raw.githubusercontent.com)|185.199.111.133|:443... connected.\n",
      "HTTP request sent, awaiting response... 200 OK\n",
      "Length: 658332 (643K) [text/plain]\n",
      "Saving to: ‘documents.json’\n",
      "\n",
      "documents.json      100%[===================>] 642.90K  --.-KB/s    in 0.1s    \n",
      "\n",
      "2024-08-05 11:51:58 (4.71 MB/s) - ‘documents.json’ saved [658332/658332]\n",
      "\n"
     ]
    }
   ],
   "source": [
    "!wget https://github.com/alexeygrigorev/llm-rag-workshop/raw/main/notebooks/documents.json\n"
   ]
  },
  {
   "cell_type": "code",
   "execution_count": 4,
   "id": "8ffcadcd-77d5-4edf-a865-c85405f3cc43",
   "metadata": {
    "scrolled": true
   },
   "outputs": [
    {
     "name": "stdout",
     "output_type": "stream",
     "text": [
      "[\n",
      "  {\n",
      "    \"course\": \"data-engineering-zoomcamp\",\n",
      "    \"documents\": [\n",
      "      {\n",
      "        \"text\": \"The purpose of this document is to capture frequently asked technical questions\\nThe exact day and hour of the course will be 15th Jan 2024 at 17h00. The course will start with the first  \\u201cOffice Hours'' live.1\\nSubscribe to course public Google Calendar (it works from Desktop only).\\nRegister before the course starts using this link.\\nJoin the course Telegram channel with announcements.\\nDon\\u2019t forget to register in DataTalks.Club's Slack and join the channel.\",\n",
      "        \"section\": \"General course-related questions\",\n",
      "        \"question\": \"Course - When will the course start?\"\n",
      "      },\n",
      "      {\n"
     ]
    }
   ],
   "source": [
    "!head documents.json"
   ]
  },
  {
   "cell_type": "code",
   "execution_count": 14,
   "id": "d04df803-0a4b-421a-9138-e43679ee0ea3",
   "metadata": {},
   "outputs": [],
   "source": [
    "import json\n",
    "\n",
    "with open('documents.json', 'rt') as d_in:\n",
    "    documents_file = json.load(d_in)\n",
    "\n",
    "documents = []\n",
    "\n",
    "for course in documents_file:\n",
    "    course_name = course['course']\n",
    "\n",
    "    for doc in course['documents']:\n",
    "        doc['course'] = course_name\n",
    "        documents.append(doc)"
   ]
  },
  {
   "cell_type": "markdown",
   "id": "cb3d7537-6fb5-4b15-ae27-bd9428c3e081",
   "metadata": {},
   "source": [
    "### Now we index it with elasticsearch"
   ]
  },
  {
   "cell_type": "code",
   "execution_count": 21,
   "id": "42aa3b09-7816-4671-b0ff-cb8141e9e4a6",
   "metadata": {},
   "outputs": [
    {
     "data": {
      "text/plain": [
       "ObjectApiResponse({'name': '061923b845aa', 'cluster_name': 'docker-cluster', 'cluster_uuid': 'ZNwgO3DaTp6lzgYtqFbiUw', 'version': {'number': '8.4.3', 'build_flavor': 'default', 'build_type': 'docker', 'build_hash': '42f05b9372a9a4a470db3b52817899b99a76ee73', 'build_date': '2022-10-04T07:17:24.662462378Z', 'build_snapshot': False, 'lucene_version': '9.3.0', 'minimum_wire_compatibility_version': '7.17.0', 'minimum_index_compatibility_version': '7.0.0'}, 'tagline': 'You Know, for Search'})"
      ]
     },
     "execution_count": 21,
     "metadata": {},
     "output_type": "execute_result"
    }
   ],
   "source": [
    "from elasticsearch import Elasticsearch\n",
    "es = Elasticsearch(\"http://localhost:9200\")\n",
    "es.info()"
   ]
  },
  {
   "cell_type": "markdown",
   "id": "0f3998c8-f8e0-46ca-9068-971c6de3b676",
   "metadata": {},
   "source": [
    "### create index (it's like a table in a relational db)"
   ]
  },
  {
   "cell_type": "code",
   "execution_count": 22,
   "id": "15cc938c-e5cf-4e69-becd-6dd94636be76",
   "metadata": {},
   "outputs": [
    {
     "data": {
      "text/plain": [
       "ObjectApiResponse({'course-questions': {'aliases': {}, 'mappings': {'properties': {'course': {'type': 'keyword'}, 'question': {'type': 'text'}, 'section': {'type': 'text'}, 'text': {'type': 'text'}}}, 'settings': {'index': {'routing': {'allocation': {'include': {'_tier_preference': 'data_content'}}}, 'number_of_shards': '1', 'provided_name': 'course-questions', 'creation_date': '1722855980323', 'number_of_replicas': '0', 'uuid': 'agPFl5dNRl-wGOz9VkofBA', 'version': {'created': '8040399'}}}}})"
      ]
     },
     "execution_count": 22,
     "metadata": {},
     "output_type": "execute_result"
    }
   ],
   "source": [
    "index_settings = {\n",
    "    \"settings\": {\n",
    "        \"number_of_shards\": 1,\n",
    "        \"number_of_replicas\": 0\n",
    "    },\n",
    "    \"mappings\": {\n",
    "        \"properties\": {\n",
    "            \"text\": {\"type\": \"text\"},\n",
    "            \"section\": {\"type\": \"text\"},\n",
    "            \"question\": {\"type\": \"text\"},\n",
    "            \"course\": {\"type\": \"keyword\"} \n",
    "        }\n",
    "    }\n",
    "}\n",
    "\n",
    "index_name = \"course-questions\"\n",
    "\n",
    "if not es.indices.exists(index=index_name):\n",
    "    response = es.indices.create(index=index_name, body=index_settings)\n",
    "else:\n",
    "    response = es.indices.get(index=index_name)\n",
    "response"
   ]
  },
  {
   "cell_type": "code",
   "execution_count": 17,
   "id": "5fa092fd-2900-4d32-8f29-b90bc69f99a9",
   "metadata": {},
   "outputs": [
    {
     "name": "stderr",
     "output_type": "stream",
     "text": [
      "100%|███████████████████████████████████████████████████████████████████████████████████████████████| 948/948 [00:02<00:00, 353.84it/s]\n"
     ]
    }
   ],
   "source": [
    "from tqdm.auto import tqdm\n",
    "\n",
    "for doc in tqdm(documents):\n",
    "    es.index(index=index_name, document=doc)"
   ]
  },
  {
   "cell_type": "markdown",
   "id": "34c77a32-cdc0-4ff2-9b61-7612f882696e",
   "metadata": {},
   "source": [
    "### Retrieving the docs:"
   ]
  },
  {
   "cell_type": "code",
   "execution_count": 24,
   "id": "6e86c9d5-e19f-453c-ae3b-569823eddde1",
   "metadata": {},
   "outputs": [
    {
     "name": "stdout",
     "output_type": "stream",
     "text": [
      "Section: General course-related questions\n",
      "Question: Course - Can I still join the course after the start date?\n",
      "Answer: Yes, even if you don't register, you're still eligible to su...\n",
      "\n",
      "Section: General course-related questions\n",
      "Question: Course - Can I follow the course after it finishes?\n",
      "Answer: Yes, we will keep all the materials after the course finishe...\n",
      "\n",
      "Section: General course-related questions\n",
      "Question: Course - What can I do before the course starts?\n",
      "Answer: You can start by installing and setting up all the dependenc...\n",
      "\n",
      "Section: General course-related questions\n",
      "Question: How do I use Git / GitHub for this course?\n",
      "Answer: After you create a GitHub account, you should clone the cour...\n",
      "\n",
      "Section: Workshop 1 - dlthub\n",
      "Question: How do I install the necessary dependencies to run the code?\n",
      "Answer: Answer: To run the provided code, ensure that the 'dlt[duckd...\n",
      "\n"
     ]
    }
   ],
   "source": [
    "def retrieve_documents(query, index_name=\"course-questions\", max_results=5):\n",
    "    es = Elasticsearch(\"http://localhost:9200\")\n",
    "    \n",
    "    search_query = {\n",
    "        \"size\": max_results,\n",
    "        \"query\": {\n",
    "            \"bool\": {\n",
    "                \"must\": {\n",
    "                    \"multi_match\": {\n",
    "                        \"query\": query,\n",
    "                        \"fields\": [\"question^3\", \"text\", \"section\"],\n",
    "                        \"type\": \"best_fields\"\n",
    "                    }\n",
    "                },\n",
    "                \"filter\": {\n",
    "                    \"term\": {\n",
    "                        \"course\": \"data-engineering-zoomcamp\"\n",
    "                    }\n",
    "                }\n",
    "            }\n",
    "        }\n",
    "    }\n",
    "    \n",
    "    response = es.search(index=index_name, body=search_query)\n",
    "    documents = [hit['_source'] for hit in response['hits']['hits']]\n",
    "    return documents\n",
    "\n",
    "\n",
    "\n",
    "\n",
    "query = \"How do I join the course after it has started?\"\n",
    "\n",
    "response = retrieve_documents(query)\n",
    "for doc in response:\n",
    "    print(f\"Section: {doc['section']}\")\n",
    "    print(f\"Question: {doc['question']}\")\n",
    "    print(f\"Answer: {doc['text'][:60]}...\\n\")\n"
   ]
  },
  {
   "cell_type": "markdown",
   "id": "ac92ec19-6786-43c4-860b-56f03f4a330c",
   "metadata": {},
   "source": [
    "## \"G\" in RAG stands for generation based on the \"R\" output"
   ]
  },
  {
   "cell_type": "code",
   "execution_count": 20,
   "id": "2c767386-c506-4994-8eeb-945eee3216ea",
   "metadata": {},
   "outputs": [],
   "source": [
    "from openai import OpenAI\n",
    "import os\n",
    "ORG = os.getenv(\"ORG\")\n",
    "PROJECT_ID=os.getenv(\"PROJECT_ID\")\n",
    "client = OpenAI(organization=ORG, project=PROJECT_ID)\n",
    "# completion = client.chat.completions.create(\n",
    "#     model=\"gpt-4o-mini\",\n",
    "#     messages=[\n",
    "#         {\"role\": \"user\", \"content\": \"write a haiku about ai\"}\n",
    "#     ]\n",
    "# )\n",
    "\n",
    "# # Print the response content\n",
    "# print(completion.choices[0].message.content)\n"
   ]
  },
  {
   "cell_type": "markdown",
   "id": "b64c7b02-7983-4ac3-828c-7c1f6c67312b",
   "metadata": {},
   "source": [
    "### Now we build a prompt:"
   ]
  },
  {
   "cell_type": "code",
   "execution_count": 54,
   "id": "c0c79d27-39a8-42e6-8654-12da7a98eecf",
   "metadata": {},
   "outputs": [],
   "source": [
    "#build the context that will be a part of the prompt\n",
    "\n",
    "def build_context(docs):\n",
    "    context_template = \"\"\"\n",
    "    Section: {section}\n",
    "    Question: {question}\n",
    "    Answer: {text}\n",
    "    \"\"\".strip()\n",
    "    context_result = \"\"\n",
    "\n",
    "    for doc in docs:\n",
    "        doc_str = context_template.format(**doc)\n",
    "        context_result += (\"\\n\\n\" + doc_str)\n",
    "\n",
    "    return context_result.strip()\n",
    "\n",
    "def build_prompt(user_question, context):\n",
    "    prompt_template = f\"\"\"\n",
    "    You're a course teaching assistant. Answer the user QUESTION based on CONTEXT - the documents retrieved from our FAQ database. \n",
    "    Only use the facts from the CONTEXT. If the CONTEXT doesn't contan the answer, return \"NONE\"\n",
    "    \n",
    "    QUESTION: {user_question}\n",
    "    \n",
    "    CONTEXT: {context}\n",
    "    \"\"\".strip()\n",
    "    return prompt_template.format(query, context)\n"
   ]
  },
  {
   "cell_type": "code",
   "execution_count": 56,
   "id": "01cc854b-456c-46cc-ace8-cd70b71bfc09",
   "metadata": {},
   "outputs": [
    {
     "name": "stdout",
     "output_type": "stream",
     "text": [
      "NONE\n"
     ]
    }
   ],
   "source": [
    "def ask_openai(prompt, model=\"gpt-4o-mini\", role=\"user\"):\n",
    "    response = client.chat.completions.create(\n",
    "        model=model,\n",
    "        messages=[{\"role\": role, \"content\": prompt}]\n",
    "    )\n",
    "    answer = response.choices[0].message.content\n",
    "    return answer\n",
    "\n",
    "def faq_bot(user_question):\n",
    "    context_docs = retrieve_documents(user_question)\n",
    "    context = build_context(context_docs)\n",
    "    prompt = build_prompt(user_question, context)\n",
    "    answer = ask_openai(prompt)\n",
    "    return answer"
   ]
  },
  {
   "cell_type": "code",
   "execution_count": null,
   "id": "bd8a2bde-6a00-42a8-ab4a-4df368f148fa",
   "metadata": {},
   "outputs": [],
   "source": []
  }
 ],
 "metadata": {
  "kernelspec": {
   "display_name": "llm-zoomcamp-intro",
   "language": "python",
   "name": "llm-zoomcamp-intro"
  },
  "language_info": {
   "codemirror_mode": {
    "name": "ipython",
    "version": 3
   },
   "file_extension": ".py",
   "mimetype": "text/x-python",
   "name": "python",
   "nbconvert_exporter": "python",
   "pygments_lexer": "ipython3",
   "version": "3.12.3"
  }
 },
 "nbformat": 4,
 "nbformat_minor": 5
}
